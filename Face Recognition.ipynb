{
 "cells": [
  {
   "cell_type": "code",
   "execution_count": 19,
   "id": "fd2196ad",
   "metadata": {},
   "outputs": [],
   "source": [
    "import face_recognition\n",
    "import numpy as np\n",
    "import cv2"
   ]
  },
  {
   "cell_type": "code",
   "execution_count": 20,
   "id": "c77b9a9c",
   "metadata": {},
   "outputs": [],
   "source": [
    "face_1 = face_recognition.load_image_file(\"Donald Trump.jpg\")\n",
    "cv2.imshow('original image',face_1)\n",
    "face_2 = face_recognition.load_image_file(\"Khabib.jpg\")\n",
    "cv2.imshow('original image',face_2)\n",
    "face_3 = face_recognition.load_image_file(\"Mesut Ozil.jpg\")\n",
    "cv2.imshow('original image',face_3)\n",
    "face_4 = face_recognition.load_image_file(\"Putin.jpg\")\n",
    "cv2.imshow('original image',face_4)\n",
    "face_5 = face_recognition.load_image_file(\"Tiger Woods.jpg\")\n",
    "#cv2.imshow('original image',face_5)\n",
    "#cv2.waitKey(0)\n",
    "#cv2.destroyAllWindows()"
   ]
  },
  {
   "cell_type": "code",
   "execution_count": 21,
   "id": "87d97883",
   "metadata": {},
   "outputs": [],
   "source": [
    "face_1_encoding = face_recognition.face_encodings(face_1)[0]\n",
    "face_2_encoding = face_recognition.face_encodings(face_2)[0]\n",
    "face_3_encoding = face_recognition.face_encodings(face_3)[0]\n",
    "face_4_encoding = face_recognition.face_encodings(face_4)[0]\n",
    "face_5_encoding = face_recognition.face_encodings(face_5)[0]"
   ]
  },
  {
   "cell_type": "code",
   "execution_count": 15,
   "id": "47a5c203",
   "metadata": {},
   "outputs": [],
   "source": [
    "known_face_encodings = [face_1_encoding,face_2_encoding,face_3_encoding,face_4_encoding,face_5_encoding]\n",
    "known_face_names = [\"Doanld Trump\",\"Khabib\",\"Mesut Ozil\",\"Putin\",\"Tiger Woods\"]"
   ]
  },
  {
   "cell_type": "code",
   "execution_count": 22,
   "id": "0b831221",
   "metadata": {},
   "outputs": [],
   "source": [
    "def  live_camera():\n",
    "    video_capture = cv2.VideoCapture(0)\n",
    "    while video_capture.isOpened():\n",
    "        ret, frame = video_capture.read()\n",
    "\n",
    "        rgb_frame = frame[:, :, ::-1]\n",
    "\n",
    "        face_locations = face_recognition.face_locations(rgb_frame)\n",
    "        face_encodings = face_recognition.face_encodings(rgb_frame, face_locations)\n",
    "\n",
    "        for (top, right, bottom, left), face_encoding in zip(face_locations, face_encodings):\n",
    "\n",
    "            matches = face_recognition.compare_faces(known_face_encodings, face_encoding)\n",
    "\n",
    "            name = \"Unkown Entity\"\n",
    "\n",
    "            face_distances = face_recognition.face_distance(known_face_encodings, face_encoding)\n",
    "\n",
    "            best_match_index = np.argmin(face_distances)\n",
    "            if matches[best_match_index]:\n",
    "                name = known_face_names[best_match_index]\n",
    "            \n",
    "            cv2.rectangle(frame, (left, top), (right, bottom), (0, 0, 255), 2)\n",
    "\n",
    "            cv2.rectangle(frame, (left, bottom -35), (right, bottom), (0, 0, 255), cv2.FILLED)\n",
    "            font = cv2.FONT_HERSHEY_SIMPLEX\n",
    "            cv2.putText(frame, name, (left + 6, bottom - 6), font, 1.0, (255, 255, 255), 1)\n",
    "\n",
    "        cv2.imshow('Webcam_facerecognition', frame)\n",
    "\n",
    "        if cv2.waitKey(1) & 0xFF == ord('q'):\n",
    "            break\n"
   ]
  },
  {
   "cell_type": "code",
   "execution_count": 24,
   "id": "0808aa55",
   "metadata": {},
   "outputs": [],
   "source": [
    "# tkinter GUI\n",
    "import tkinter as tk\n",
    "root= tk.Tk()\n",
    "\n",
    "#Make a Canvas (i.e, a screen for your project\n",
    "canvas1 = tk.Canvas(root, width = 500, height = 500)\n",
    "canvas1.pack()\n",
    "\n",
    "canvas1.config(bg='gray')\n",
    "\n",
    "# Popularity label and input box\n",
    "label1 = tk.Label(root, text='Face Recognition System')\n",
    "canvas1.create_window(250, 50, window=label1)\n",
    "\n",
    "#Add button in GUI\n",
    "#button1 = tk.Button (root, text='Upload', bg='orange') # button to call the 'values' command above\n",
    "#canvas1.create_window(250, 150, window=button1)\n",
    "#button1 = tk.Button (root, text='Submit',command=upload_picture, bg='orange') # button to call the 'values' command above\n",
    "#canvas1.create_window(250, 200, window=button1)\n",
    "#Add button in GUI\n",
    "button3 = tk.Button (root, text='Live',command=live_camera, bg='orange') # button to call the 'values' command above\n",
    "canvas1.create_window(250, 200, window=button3)\n",
    "root.mainloop()\n"
   ]
  },
  {
   "cell_type": "code",
   "execution_count": null,
   "id": "8ebbfcfc",
   "metadata": {},
   "outputs": [],
   "source": []
  }
 ],
 "metadata": {
  "kernelspec": {
   "display_name": "Python 3 (ipykernel)",
   "language": "python",
   "name": "python3"
  },
  "language_info": {
   "codemirror_mode": {
    "name": "ipython",
    "version": 3
   },
   "file_extension": ".py",
   "mimetype": "text/x-python",
   "name": "python",
   "nbconvert_exporter": "python",
   "pygments_lexer": "ipython3",
   "version": "3.9.7"
  },
  "vscode": {
   "interpreter": {
    "hash": "58fd46123afbb8e09dd8848284f6fb137e9823f0fb6664d4fe8484cf7524d59a"
   }
  }
 },
 "nbformat": 4,
 "nbformat_minor": 5
}
